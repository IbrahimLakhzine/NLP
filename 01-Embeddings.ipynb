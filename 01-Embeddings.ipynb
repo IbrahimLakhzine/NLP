{
 "cells": [
  {
   "cell_type": "markdown",
   "id": "powered-slide",
   "metadata": {
    "deletable": false,
    "editable": false,
    "nbassignment": {
     "type": "header"
    },
    "nbgrader": {
     "cell_type": "markdown",
     "checksum": "a4fd6b7550484ed709bca7da18028042",
     "grade": false,
     "grade_id": "template_886979f3_0",
     "locked": true,
     "schema_version": 3,
     "solution": false,
     "task": false
    }
   },
   "source": [
    "<div class=\"alert alert-block alert-info\">\n",
    "    <h1>Natural Language Processing</h1>\n",
    "    <h3>General Information:</h3>\n",
    "    <p>Please do not add or delete any cells. Answers belong into the corresponding cells (below the question). If a function is given (either as a signature or a full function), you should not change the name, arguments or return value of the function.<br><br> If you encounter empty cells underneath the answer that can not be edited, please ignore them, they are for testing purposes.<br><br>When editing an assignment there can be the case that there are variables in the kernel. To make sure your assignment works, please restart the kernel and run all cells before submitting (e.g. via <i>Kernel -> Restart & Run All</i>).</p>\n",
    "    <p>Code cells where you are supposed to give your answer often include the line  ```raise NotImplementedError```. This makes it easier to automatically grade answers. If you edit the cell please outcomment or delete this line.</p>\n",
    "    <h3>Submission:</h3>\n",
    "    <p>Please submit your notebook via the web interface (in the main view -> Assignments -> Submit). The assignments are due on <b>Wednesday at 15:00</b>.</p>\n",
    "    <h3>Group Work:</h3>\n",
    "    <p>You are allowed to work in groups of up to two people. Please enter the UID (your username here) of each member of the group into the next cell. We apply plagiarism checking, so do not submit solutions from other people except your team members. If an assignment has a copied solution, the task will be graded with 0 points for all people with the same solution.</p>\n",
    "    <h3>Questions about the Assignment:</h3>\n",
    "    <p>If you have questions about the assignment please post them in the LEA forum before the deadline. Don't wait until the last day to post questions.</p>\n",
    "    \n",
    "</div>"
   ]
  },
  {
   "cell_type": "code",
   "execution_count": 1,
   "id": "controversial-biography",
   "metadata": {
    "nbassignment": {
     "type": "group_info"
    }
   },
   "outputs": [],
   "source": [
    "'''\n",
    "Group Work:\n",
    "Enter the UID of each team member into the variables. \n",
    "If you work alone please leave the second variable empty.\n",
    "'''\n",
    "member1 = 'abania2s'\n",
    "member2 = 'ilakhz2s'"
   ]
  },
  {
   "cell_type": "markdown",
   "id": "hearing-relationship",
   "metadata": {
    "deletable": false,
    "editable": false,
    "nbgrader": {
     "cell_type": "markdown",
     "checksum": "e864a3294593c42ef120adc5cc716591",
     "grade": false,
     "grade_id": "VectorSimilarity_AVectorSimilarity_BVectorSimilarity_CVectorSimilarity_DVectorSimilarity_EVectorSimilarity_FVectorSimilarity_G_Header",
     "locked": true,
     "schema_version": 3,
     "solution": false,
     "task": false
    }
   },
   "source": [
    "\n",
    "# Word2Vec and FastText Embeddings\n",
    "\n",
    "In this assignment we will work on Word2Vec embeddings and FastText embeddings.\n",
    "\n",
    "I prepared three dictionaries for you:\n",
    "\n",
    "- ```word2vec_yelp_vectors.pkl```: A dictionary with 300 dimensional word2vec embeddings trained on the Google News Corpus, contains only words that are present in our Yelp reviews (key is the word, value is the embedding)\n",
    "- ```fasttext_yelp_vectors.pkl```: A dictionary with 300 dimensional FastText embeddings trained on the English version of Wikipedia, contains only words that are present in our Yelp reviews (key is the word, value is the embedding)\n",
    "- ```tfidf_yelp_vectors.pkl```: A dictionary with 400 dimensional TfIdf embeddings trained on the Yelp training dataset from last assignment (key is the word, value is the embedding)\n",
    "\n",
    "In the next cell we load those into the dictionaries ```w2v_vectors```, ```ft_vectors``` and ```tfidf_vectors```."
   ]
  },
  {
   "cell_type": "code",
   "execution_count": 2,
   "id": "sensitive-following",
   "metadata": {
    "deletable": false,
    "editable": false,
    "nbgrader": {
     "cell_type": "code",
     "checksum": "31ab09bf8d67973e20d956cbbfa995b0",
     "grade": false,
     "grade_id": "VectorSimilarity_A_Description0",
     "locked": true,
     "schema_version": 3,
     "solution": false,
     "task": false
    }
   },
   "outputs": [],
   "source": [
    "import pickle\n",
    "\n",
    "with open('/srv/shares/NLP/word2vec_yelp_vectors.pkl', 'rb') as f:\n",
    "    w2v_vectors = pickle.loads(f.read())\n",
    "    \n",
    "with open('/srv/shares/NLP/fasttext_yelp_vectors.pkl', 'rb') as f:\n",
    "    ft_vectors = pickle.loads(f.read())\n",
    "    \n",
    "with open('/srv/shares/NLP/tfidf_yelp_vectors.pkl', 'rb') as f:\n",
    "    tfidf_vectors = pickle.loads(f.read())\n",
    "    \n",
    "with open('/srv/shares/NLP/reviews_train.pkl', 'rb') as f:\n",
    "    train = pickle.load(f)\n",
    "    \n",
    "with open('/srv/shares/NLP/reviews_test.pkl', 'rb') as f:\n",
    "    test = pickle.load(f)\n",
    "    \n",
    "reviews = train + test"
   ]
  },
  {
   "cell_type": "markdown",
   "id": "formal-vermont",
   "metadata": {
    "deletable": false,
    "editable": false,
    "nbgrader": {
     "cell_type": "markdown",
     "checksum": "9f6c0346e0db0e944394ac0a918f72e9",
     "grade": false,
     "grade_id": "VectorSimilarity_A_Description1",
     "locked": true,
     "schema_version": 3,
     "solution": false,
     "task": false
    }
   },
   "source": [
    "## Creating a vector model with helper functions [30 points]\n",
    "\n",
    "In the next cell we have the class ```VectorModel``` with the methods:\n",
    "\n",
    "- ```vector_size```: Returns the vector size of the model\n",
    "- ```embed```: Returns the embedding for a word. Returns None if there is no embedding present for the word\n",
    "- ```cosine_similarity```: Calculates the cosine similarity between two vectors\n",
    "- ```most_similar```: Given a word returns the ```top_n``` most similar words from the model, together with the similarity value, **sorted by similarity (descending)**.\n",
    "- ```most_similar_vec```: Given a vector returns the ```top_n``` most similar words from the model, together with the similarity value, **sorted by similarity (descending)**.\n",
    "\n",
    "Your task is to complete these methods.\n",
    "\n",
    "Example output:\n",
    "```\n",
    "model = VectorModel(w2v_vectors)\n",
    "\n",
    "vector_good = model.embed('good')\n",
    "vector_tomato = model.embed('tomato')\n",
    "\n",
    "print(model.cosine_similarity(vector_good, vector_tomato)) # Prints: 0.05318105\n",
    "\n",
    "print(model.most_similar('tomato')) \n",
    "'''\n",
    "[('tomatoes', 0.8442263), \n",
    " ('lettuce', 0.70699364),\n",
    " ('strawberry', 0.6888598), \n",
    " ('strawberries', 0.68325955), \n",
    " ('potato', 0.67841727)]\n",
    "'''\n",
    "\n",
    "print(model.most_similar_vec(vector_good)) \n",
    "'''\n",
    "[('good', 1.0), \n",
    " ('great', 0.72915095), \n",
    " ('bad', 0.7190051), \n",
    " ('decent', 0.6837349), \n",
    " ('nice', 0.68360925)]\n",
    "'''\n",
    "\n",
    "```"
   ]
  },
  {
   "cell_type": "code",
   "execution_count": 6,
   "id": "honest-little",
   "metadata": {
    "deletable": false,
    "nbgrader": {
     "cell_type": "code",
     "checksum": "d8dcf13a0fc232d23f818a43ce16c475",
     "grade": false,
     "grade_id": "VectorSimilarity_A",
     "locked": false,
     "schema_version": 3,
     "solution": true,
     "task": false
    }
   },
   "outputs": [],
   "source": [
    "from typing import List, Tuple, Dict\n",
    "import numpy as np\n",
    "import math\n",
    "   \n",
    "class VectorModel:\n",
    "    \n",
    "    def __init__(self, vector_dict: Dict[str, np.ndarray]):\n",
    "        self.vector_dict=vector_dict\n",
    "        #raise NotImplementedError()\n",
    "        \n",
    "    def embed(self,word: str) -> np.ndarray:\n",
    "        # YOUR CODE HERE\n",
    "        my_vector=np.zeros(len(word))\n",
    "        counter=0\n",
    "        dic={}                   \n",
    "        for i in range(0,len(word)):\n",
    "            if word[i] in dic.keys():\n",
    "                my_vector[i]=dic[word[i]]\n",
    "            else:    \n",
    "                dic[word[i]]=counter \n",
    "                my_vector[i]=counter\n",
    "                counter+=1  \n",
    "                               \n",
    "        return my_vector                 \n",
    "        #raise NotImplementedError()\n",
    "    \n",
    "    def vector_size(self) -> int:\n",
    "        return len(self.vector_dict)\n",
    "        #raise NotImplementedError()\n",
    "    \n",
    "    def cosine_similarity(self, vec1: np.ndarray, vec2: np.ndarray) -> float:\n",
    "        sumxx, sumxy, sumyy = 0, 0, 0\n",
    "        for i in range(len(vec1)):\n",
    "            x = vec1[i] \n",
    "            y = vec2[i]\n",
    "            sumxx += x*x\n",
    "            sumyy += y*y\n",
    "            sumxy += x*y\n",
    "        return sumxy/math.sqrt(sumxx*sumyy)\n",
    "        #raise NotImplementedError()\n",
    "\n",
    "    def most_similar(self, word: str, top_n: int=5) -> List[Tuple[str, float]]:\n",
    "        similar1={}\n",
    "        similar=[]\n",
    "        for word_vect,embeding in self.vector_dict.items():\n",
    "            similar1[word_vect]=self.cosine_similarity(self.embed(word),embeding)\n",
    "            \n",
    "        {k: v for k, v in sorted(similar1.items(), key=lambda item: item[1])}\n",
    "        keys=list(similar1.keys())\n",
    "        values=list(similar1.values())\n",
    "        for i in range(0,top_n):\n",
    "            similar.append((keys[i],values[i]))\n",
    "            \n",
    "        return similar \n",
    "        #raise NotImplementedError()\n",
    "        \n",
    "    def most_similar_vec(self, vec: np.ndarray, top_n: int=5) -> List[Tuple[str, float]]:\n",
    "        similar1={}\n",
    "        similar=[]\n",
    "        for word_vect,embeding in self.vector_dict.items():\n",
    "            similar1[ word_vect]=self.cosine_similarity(vec,embeding)\n",
    "            \n",
    "        {k: v for k, v in sorted(similar1.items(), key=lambda item: item[1])}\n",
    "        keys=similar1.keys()\n",
    "        values=similar1.values()\n",
    "        for i in range(0,top_n):\n",
    "            similar.append((keys[i],values[i]))\n",
    "            \n",
    "        return similar\n",
    "        #raise NotImplementedError()\n",
    " \n"
   ]
  },
  {
   "cell_type": "code",
   "execution_count": 4,
   "id": "unknown-fault",
   "metadata": {
    "deletable": false,
    "editable": false,
    "nbgrader": {
     "cell_type": "code",
     "checksum": "b980304ecfda2264fb207439e3b3c925",
     "grade": true,
     "grade_id": "test_VectorSimilarity_A0",
     "locked": true,
     "points": 30,
     "schema_version": 3,
     "solution": false,
     "task": false
    }
   },
   "outputs": [],
   "source": [
    "# This is a test cell, please ignore it\n"
   ]
  },
  {
   "cell_type": "markdown",
   "id": "wicked-norway",
   "metadata": {
    "deletable": false,
    "editable": false,
    "nbgrader": {
     "cell_type": "markdown",
     "checksum": "bc8f7068215ca1ef592778c5a4b4162a",
     "grade": false,
     "grade_id": "VectorSimilarity_B_Description0",
     "locked": true,
     "schema_version": 3,
     "solution": false,
     "task": false
    }
   },
   "source": [
    "## Investigating similarity A) [10 points]\n",
    "\n",
    "We now want to find the most similar words for a given input word for each model (Word2Vec, FastText and TfIdf).\n",
    "\n",
    "Your input words are: ```['good', 'tomato', 'restaurant', 'beer', 'wonderful']```.\n",
    "\n",
    "For each model and input word print the top three most similar words."
   ]
  },
  {
   "cell_type": "code",
   "execution_count": 14,
   "id": "improved-count",
   "metadata": {
    "deletable": false,
    "nbgrader": {
     "cell_type": "code",
     "checksum": "ddad901f2d646951490e9fcfe8edb004",
     "grade": true,
     "grade_id": "VectorSimilarity_B",
     "locked": false,
     "points": 10,
     "schema_version": 3,
     "solution": true,
     "task": false
    }
   },
   "outputs": [
    {
     "name": "stdout",
     "output_type": "stream",
     "text": [
      "\n",
      "******* For Word2Vec model *******\n",
      "\n",
      "good :  [('le', 0.6451708286473178), ('reversed', 0.4217192665968331), ('smeared', 0.8598120384887983)] \n",
      "\n",
      "tomato :  [('le', 0.5411644954377411), ('reversed', -0.0028135541405822856), ('smeared', 0.8441920734765433)] \n",
      "\n",
      "restaurant :  [('le', 0.36754370475128595), ('reversed', -0.21557356018765367), ('smeared', 0.4170470010258563)] \n",
      "\n",
      "beer :  [('le', 0.6451708286473178), ('reversed', 0.4217192665968331), ('smeared', 0.8598120384887983)] \n",
      "\n",
      "wonderful :  [('le', 0.2581704792681472), ('reversed', -0.17566483643172046), ('smeared', 0.34401132672604323)] \n",
      "\n",
      "dinner :  [('le', 0.8866279239846296), ('reversed', -0.511757576415864), ('smeared', 0.424599062675682)] \n",
      "\n",
      "\n",
      "******* For FastText model *******\n",
      "\n",
      "good :  [('the', 0.4795324346025386), ('of', -0.4668245770417006), ('in', -0.20121046373022147)] \n",
      "\n",
      "tomato :  [('the', 0.5734313974483376), ('of', -0.28430623390435616), ('in', -0.35246620104548426)] \n",
      "\n",
      "restaurant :  [('the', 0.45834951440498395), ('of', -0.4408870786044308), ('in', -0.16259179830583415)] \n",
      "\n",
      "beer :  [('the', 0.4795324346025386), ('of', -0.4668245770417006), ('in', -0.20121046373022147)] \n",
      "\n",
      "wonderful :  [('the', 0.24046281459815821), ('of', -0.3506704685246565), ('in', 0.04115121551847654)] \n",
      "\n",
      "dinner :  [('the', 0.22875262430566098), ('of', 0.10598948026923895), ('in', -0.4589490360155865)] \n",
      "\n",
      "\n",
      "******* For TfIdf model *******\n",
      "\n"
     ]
    },
    {
     "name": "stderr",
     "output_type": "stream",
     "text": [
      "<ipython-input-6-40829872cbca>:39: RuntimeWarning: invalid value encountered in double_scalars\n",
      "  return sumxy/math.sqrt(sumxx*sumyy)\n"
     ]
    },
    {
     "name": "stdout",
     "output_type": "stream",
     "text": [
      "good :  [('[', nan), (']', nan), ('a', 0.8325805147610086)] \n",
      "\n",
      "tomato :  [('[', nan), (']', nan), ('a', 0.6729165239428978)] \n",
      "\n",
      "restaurant :  [('[', nan), (']', nan), ('a', 0.652566233875422)] \n",
      "\n",
      "beer :  [('[', nan), (']', nan), ('a', 0.8325805147610086)] \n",
      "\n",
      "wonderful :  [('[', nan), (']', nan), ('a', 0.6295560202265803)] \n",
      "\n",
      "dinner :  [('[', nan), (']', nan), ('a', 0.7875918964379709)] \n",
      "\n"
     ]
    }
   ],
   "source": [
    "input_words = ['good', 'tomato', 'restaurant', 'beer', 'wonderful', 'dinner']\n",
    "\n",
    "print(\"\\n******* For Word2Vec model *******\\n\")\n",
    "model = VectorModel(w2v_vectors)\n",
    "for word in input_words:\n",
    "    three_words=model.most_similar(word,3)\n",
    "    print(word,\": \",three_words,\"\\n\")\n",
    "    \n",
    "\n",
    "print(\"\\n******* For FastText model *******\\n\")          \n",
    "model = VectorModel(ft_vectors)\n",
    "for word in input_words:\n",
    "    three_words=model.most_similar(word,3)\n",
    "    print(word,\": \",three_words,\"\\n\")\n",
    "          \n",
    "          \n",
    "print(\"\\n******* For TfIdf model *******\\n\")\n",
    "model = VectorModel(tfidf_vectors)\n",
    "for word in input_words:\n",
    "    three_words=model.most_similar(word,3)\n",
    "    print(word,\": \",three_words,\"\\n\")\n"
   ]
  },
  {
   "cell_type": "markdown",
   "id": "adverse-ultimate",
   "metadata": {
    "deletable": false,
    "editable": false,
    "nbgrader": {
     "cell_type": "markdown",
     "checksum": "ea42db99d9e4f8eceab5247a1e742d2f",
     "grade": false,
     "grade_id": "VectorSimilarity_C_Description0",
     "locked": true,
     "schema_version": 3,
     "solution": false,
     "task": false
    }
   },
   "source": [
    "## Investigating similarity B) [10 points]\n",
    "\n",
    "Comment on the output from the previous task. Let us look at the output for the word ```wonderful```. How do the models differ for this word? Can you reason why the TfIdf model shows so different results?"
   ]
  },
  {
   "cell_type": "markdown",
   "id": "noted-aviation",
   "metadata": {
    "deletable": false,
    "nbgrader": {
     "cell_type": "markdown",
     "checksum": "560f030fbc0ebf9c093d42f0af3d37c5",
     "grade": true,
     "grade_id": "VectorSimilarity_C",
     "locked": false,
     "points": 10,
     "schema_version": 3,
     "solution": true,
     "task": false
    }
   },
   "source": [
    "YOUR ANSWER HERE"
   ]
  },
  {
   "cell_type": "markdown",
   "id": "supreme-answer",
   "metadata": {
    "deletable": false,
    "editable": false,
    "nbgrader": {
     "cell_type": "markdown",
     "checksum": "0577bd13c5771b100b73b4d013022259",
     "grade": false,
     "grade_id": "VectorSimilarity_D_Description0",
     "locked": true,
     "schema_version": 3,
     "solution": false,
     "task": false
    }
   },
   "source": [
    "## Investigating similarity C) [10 points]\n",
    "\n",
    "Instead of just finding the most similar word to a single word, we can also find the most similar word given a list of positive and negative words.\n",
    "\n",
    "For this we just sum up the positive and negative words into a single vector by calculating a weighted mean. For this we multiply each positive word with a factor of $+1$ and each negative word with a factor of $-1$. Then we get the most similar words to that vector.\n",
    "\n",
    "You are given the following examples:\n",
    "\n",
    "```\n",
    "inputs = [\n",
    "    {\n",
    "        'positive': ['good', 'wonderful'],\n",
    "        'negative': ['bad']\n",
    "    },\n",
    "    {\n",
    "        'positive': ['tomato', 'lettuce'],\n",
    "        'negative': ['strawberry', 'salad']\n",
    "    }    \n",
    "]\n",
    "```"
   ]
  },
  {
   "cell_type": "code",
   "execution_count": null,
   "id": "advanced-shelf",
   "metadata": {
    "deletable": false,
    "nbgrader": {
     "cell_type": "code",
     "checksum": "c11d7cc8e7d41bae0b33df45bc3e5433",
     "grade": true,
     "grade_id": "VectorSimilarity_D",
     "locked": false,
     "points": 10,
     "schema_version": 3,
     "solution": true,
     "task": false
    }
   },
   "outputs": [],
   "source": [
    "inputs = [\n",
    "    {\n",
    "        'positive': ['good', 'wonderful'],\n",
    "        'negative': ['bad']\n",
    "    },\n",
    "    {\n",
    "        'positive': ['tomato', 'lettuce'],\n",
    "        'negative': ['strawberry', 'fruit']\n",
    "    },\n",
    "    {\n",
    "        'positive': ['ceasar', 'chicken'],\n",
    "        'negative': []\n",
    "    }    \n",
    "]\n",
    "\n",
    "\n"
   ]
  },
  {
   "cell_type": "markdown",
   "id": "colored-reset",
   "metadata": {
    "deletable": false,
    "editable": false,
    "nbgrader": {
     "cell_type": "markdown",
     "checksum": "3aeb5076326c30f2b229061cc1d1dc58",
     "grade": false,
     "grade_id": "VectorSimilarity_E_Description0",
     "locked": true,
     "schema_version": 3,
     "solution": false,
     "task": false
    }
   },
   "source": [
    "## Investigating similarity D) [15 points]\n",
    "\n",
    "We can use our model to find out which word does not match given a list of words.\n",
    "\n",
    "For this we build the mean vector of all embeddings in the list.  \n",
    "Then we calculate the cosine similarity between the mean and all those vectors.\n",
    "\n",
    "The word that does not match is then the word with the lowest cosine similarity to the mean.\n",
    "\n",
    "Example:\n",
    "\n",
    "```\n",
    "model = VectorModel(w2v_vectors)\n",
    "doesnt_match(model, ['potato', 'tomato', 'beer']) # -> 'beer'\n",
    "```"
   ]
  },
  {
   "cell_type": "code",
   "execution_count": null,
   "id": "featured-ballot",
   "metadata": {
    "deletable": false,
    "nbgrader": {
     "cell_type": "code",
     "checksum": "bb6cae44cef647800d07c81569889966",
     "grade": false,
     "grade_id": "VectorSimilarity_E",
     "locked": false,
     "schema_version": 3,
     "solution": true,
     "task": false
    }
   },
   "outputs": [],
   "source": [
    "def doesnt_match(model, words):\n",
    "    # YOUR CODE HERE\n",
    "    raise NotImplementedError()\n",
    "    \n",
    "doesnt_match(model_tfidf, ['vegetable', 'strawberry', 'tomato', 'lettuce'])"
   ]
  },
  {
   "cell_type": "code",
   "execution_count": null,
   "id": "improved-conclusion",
   "metadata": {
    "deletable": false,
    "editable": false,
    "nbgrader": {
     "cell_type": "code",
     "checksum": "98595e3698692eaedef7c03eac3b1da9",
     "grade": true,
     "grade_id": "test_VectorSimilarity_E0",
     "locked": true,
     "points": 15,
     "schema_version": 3,
     "solution": false,
     "task": false
    }
   },
   "outputs": [],
   "source": [
    "# This is a test cell, please ignore it\n"
   ]
  },
  {
   "cell_type": "markdown",
   "id": "responsible-parent",
   "metadata": {
    "deletable": false,
    "editable": false,
    "nbgrader": {
     "cell_type": "markdown",
     "checksum": "d141ef5c3f341644d3a756404c50be53",
     "grade": false,
     "grade_id": "VectorSimilarity_F_Description0",
     "locked": true,
     "schema_version": 3,
     "solution": false,
     "task": false
    }
   },
   "source": [
    "## Document Embeddings A) [15 points]\n",
    "\n",
    "Now we want to create document embeddings similar to the last assignment. For this you are given the function ```bagOfWords```. In the context of Word2Vec and FastText embeddings this is also called ```SOWE``` for sum of word embeddings.\n",
    "\n",
    "Take the yelp reviews (```reviews```) and create a dictionary containing the document id as a key and the document embedding as a value.\n",
    "\n",
    "Create the document embeddings from the Word2Vec, FastText and TfIdf embeddings.\n",
    "\n",
    "Store these in the variables ```ft_doc_embeddings```, ```w2v_doc_embeddings``` and ```tfidf_doc_embeddings```"
   ]
  },
  {
   "cell_type": "code",
   "execution_count": null,
   "id": "serial-forum",
   "metadata": {
    "deletable": false,
    "nbgrader": {
     "cell_type": "code",
     "checksum": "7cba6e7a1b4767cbd653d557dac01a02",
     "grade": false,
     "grade_id": "VectorSimilarity_F",
     "locked": false,
     "schema_version": 3,
     "solution": true,
     "task": false
    }
   },
   "outputs": [],
   "source": [
    "def bagOfWords(model: EmbeddingModel, doc: List[str]) -> np.ndarray:\n",
    "    '''\n",
    "    Create a document embedding using the bag of words approach\n",
    "    \n",
    "    Args:\n",
    "        model     -- The embedding model to use\n",
    "        doc       -- A document as a list of tokens\n",
    "        \n",
    "    Returns:\n",
    "        embedding -- The embedding for the document as a single vector \n",
    "    '''\n",
    "    embeddings = [np.zeros(model.vector_size())]\n",
    "    n_tokens = 0\n",
    "    for token in doc:\n",
    "        embedding = model.embed(token)\n",
    "        if embedding is not None:\n",
    "            n_tokens += 1\n",
    "            embeddings.append(embedding)\n",
    "    if n_tokens > 0:\n",
    "        return sum(embeddings)/n_tokens\n",
    "    return sum(embeddings)\n",
    "\n",
    "\n",
    "ft_doc_embeddings = dict()\n",
    "w2v_doc_embeddings = dict()\n",
    "tfidf_doc_embeddings = dict()\n",
    "\n",
    "# YOUR CODE HERE\n",
    "raise NotImplementedError()"
   ]
  },
  {
   "cell_type": "code",
   "execution_count": null,
   "id": "common-forwarding",
   "metadata": {
    "deletable": false,
    "editable": false,
    "nbgrader": {
     "cell_type": "code",
     "checksum": "dfbc55cfab28e60b281e7e06412310ff",
     "grade": true,
     "grade_id": "test_VectorSimilarity_F0",
     "locked": true,
     "points": 15,
     "schema_version": 3,
     "solution": false,
     "task": false
    }
   },
   "outputs": [],
   "source": [
    "# This is a test cell, please ignore it\n"
   ]
  },
  {
   "cell_type": "markdown",
   "id": "advisory-slovak",
   "metadata": {
    "deletable": false,
    "editable": false,
    "nbgrader": {
     "cell_type": "markdown",
     "checksum": "4113d00f19c775ea92044ce0442ad250",
     "grade": false,
     "grade_id": "VectorSimilarity_G_Description0",
     "locked": true,
     "schema_version": 3,
     "solution": false,
     "task": false
    }
   },
   "source": [
    "## Document Embeddings B) [10 points]\n",
    "\n",
    "Create a vector model from each of the document embedding dictionaries. Call these ```model_w2v_doc```, ```model_ft_doc``` and ```model_tfidf_doc```.\n",
    "\n",
    "Now find the most similar document (```top_n=1```) for document $438$ with each of these models. Print the text for each of the most similar reviews."
   ]
  },
  {
   "cell_type": "code",
   "execution_count": null,
   "id": "persistent-fairy",
   "metadata": {
    "deletable": false,
    "nbgrader": {
     "cell_type": "code",
     "checksum": "71ccd4569a5255386cafbbbc1cc0b510",
     "grade": true,
     "grade_id": "VectorSimilarity_G",
     "locked": false,
     "points": 10,
     "schema_version": 3,
     "solution": true,
     "task": false
    }
   },
   "outputs": [],
   "source": [
    "# First find the text for review 438\n",
    "def find_doc(doc_id, reviews):\n",
    "    for review in reviews:\n",
    "        if review['id'] == doc_id:\n",
    "            return review['text']\n",
    "    \n",
    "doc_id = 438\n",
    "\n",
    "# Print it\n",
    "print('Source document:')\n",
    "print(find_doc(doc_id, reviews))\n",
    "\n",
    "# YOUR CODE HERE\n",
    "# Create the models\n",
    "model_w2v_doc = None\n",
    "model_ft_doc = None\n",
    "model_tfidf_doc = None\n",
    "\n",
    "\n",
    "raise NotImplementedError()"
   ]
  }
 ],
 "metadata": {
  "kernelspec": {
   "display_name": "Python 3",
   "language": "python",
   "name": "python3"
  },
  "language_info": {
   "codemirror_mode": {
    "name": "ipython",
    "version": 3
   },
   "file_extension": ".py",
   "mimetype": "text/x-python",
   "name": "python",
   "nbconvert_exporter": "python",
   "pygments_lexer": "ipython3",
   "version": "3.8.6"
  }
 },
 "nbformat": 4,
 "nbformat_minor": 5
}
